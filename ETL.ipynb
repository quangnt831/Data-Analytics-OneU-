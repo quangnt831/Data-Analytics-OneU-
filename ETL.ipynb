{
 "cells": [
  {
   "cell_type": "markdown",
   "id": "a04296d3-84c4-4786-8cef-060f31b6343f",
   "metadata": {},
   "source": [
    "**Step 1: Extract data to dataframe"
   ]
  },
  {
   "cell_type": "code",
   "execution_count": 1,
   "id": "aa1f128e-bf46-4992-8232-c7009530cabb",
   "metadata": {
    "tags": []
   },
   "outputs": [],
   "source": [
    "import pandas as pd\n",
    "\n",
    "# Load the Excel file to dataframe\n",
    "excel_file = \"E:\\VCB\\My notebooks\\data DAE.xlsx\"\n",
    "\n",
    "df_fact = pd.read_excel(excel_file, sheet_name='fact')\n",
    "df_d_scheme = pd.read_excel(excel_file, sheet_name='d_scheme')\n",
    "df_d_voucher = pd.read_excel(excel_file, sheet_name='d_voucher')\n",
    "df_d_merchant = pd.read_excel(excel_file, sheet_name='d_merchant')\n",
    "df_d_user = pd.read_excel(excel_file, sheet_name='d_user')"
   ]
  },
  {
   "cell_type": "markdown",
   "id": "94c5301d-8ee8-4bb5-9ed2-8529ba5c46a9",
   "metadata": {},
   "source": [
    "**Step 2: Review data model\n",
    "\n",
    "*Vấn đề 1: Bảng fact có 2 fields AVAILABLE_FROM, AVAILABLE_TO trùng lặp với 2 fields display_date_from, display_date_to tại bảng d_voucher \n",
    "-> Remove 2 fields này trên bảng fact\n",
    "\n",
    "*Vấn đề 2: Fields VOUCHER_NAME của bảng fact lưu trữ thuộc tính của voucher_code \n",
    "-> Remove và chuyển sang lưu trữ tại bảng d_voucher\n",
    "\n",
    "**Step 3: Sửa đổi data model và tạo bảng vật lý trên SQL Server theo file create_object.sql\n"
   ]
  },
  {
   "cell_type": "markdown",
   "id": "87ab6bbb-fa6a-43a5-b974-f7b788556ea7",
   "metadata": {},
   "source": [
    "**Step 4: Transform and Load data to SQL server"
   ]
  },
  {
   "cell_type": "code",
   "execution_count": 2,
   "id": "7dc717b3-4e1f-4dd3-8e7c-ed38688937cc",
   "metadata": {
    "tags": []
   },
   "outputs": [
    {
     "name": "stdout",
     "output_type": "stream",
     "text": [
      "Connection to SQL Server successful!\n"
     ]
    }
   ],
   "source": [
    "import sqlalchemy\n",
    "# SQL Server connection details\n",
    "server = 'DESKTOP-6C72I8E\\SQLEXPRESS'\n",
    "database = 'OneU'\n",
    "driver = 'ODBC Driver 17 for SQL Server'\n",
    "\n",
    "# Create the connection string using SQLAlchemy's format\n",
    "connection_string = f\"mssql+pyodbc://@{server}/{database}?driver={driver}&trusted_connection=yes\"\n",
    "\n",
    "# Create the SQLAlchemy engine\n",
    "engine = sqlalchemy.create_engine(connection_string)\n",
    "print(\"Connection to SQL Server successful!\")"
   ]
  },
  {
   "cell_type": "markdown",
   "id": "b74783f3-c593-4fa5-b5b9-33b7c292e7b5",
   "metadata": {},
   "source": [
    "- Bảng fact"
   ]
  },
  {
   "cell_type": "code",
   "execution_count": 5,
   "id": "d60903d2-3e86-4a8e-926f-2bbef8e5d2d1",
   "metadata": {
    "tags": []
   },
   "outputs": [
    {
     "name": "stdout",
     "output_type": "stream",
     "text": [
      "Load data to table fact done!\n"
     ]
    }
   ],
   "source": [
    "# Bảng fact\n",
    "df_fact_clean = df_fact.drop(['VOUCHER_NAME', 'AVAILABLE_FROM', 'AVAILABLE_TO'], axis=1)\n",
    "df_fact_clean['CALENDAR_DIM_ID'] = pd.to_datetime(df_fact_clean['CALENDAR_DIM_ID'], format='%Y-%m-%dT%H:%M')\n",
    "df_fact_clean = df_fact_clean.rename(columns={'TRANSACTION_ID': 'transaction_id'\n",
    "                                         ,'SERIAL_NUMBER': 'serial_number'\n",
    "                                         ,'VOUCHER_CODE': 'voucher_code'\n",
    "                                         ,'MERCHANT_CODE': 'merchant_code'\n",
    "                                         ,'ACTION': 'action'\n",
    "                                         ,'CALENDAR_DIM_ID': 'calendar_dim_id'\n",
    "                                         ,'USER_ID': 'user_id'\n",
    "                                         })\n",
    "\n",
    "fact_data_types = {\n",
    "    'transaction_id': sqlalchemy.types.Integer(),\n",
    "    'serial_number': sqlalchemy.types.VARCHAR(length=255),\n",
    "    'voucher_code': sqlalchemy.types.VARCHAR(length=255),\n",
    "    'merchant_code': sqlalchemy.types.VARCHAR(length=255),\n",
    "    'action': sqlalchemy.types.VARCHAR(length=255),\n",
    "    'calendar_dim_id': sqlalchemy.types.DATE(),\n",
    "    'user_id': sqlalchemy.types.VARCHAR(length=255)\n",
    "    }\n",
    "#Load to database\n",
    "df_fact_clean.to_sql(name='fact', con=engine, if_exists='append', index=False, dtype=fact_data_types, schema = 'voucher')\n",
    "print(\"Load data to table fact done!\")"
   ]
  },
  {
   "cell_type": "markdown",
   "id": "69a1d70e-8eb8-45a4-b180-a02dc698fc07",
   "metadata": {},
   "source": [
    "- Bảng d_scheme"
   ]
  },
  {
   "cell_type": "code",
   "execution_count": 6,
   "id": "3bbddbc6-e9ed-4d29-a2e4-8544176c7eb3",
   "metadata": {
    "tags": []
   },
   "outputs": [
    {
     "name": "stdout",
     "output_type": "stream",
     "text": [
      "Load data to table d_scheme done!\n"
     ]
    }
   ],
   "source": [
    "# Bảng d_scheme\n",
    "df_d_scheme_clean = df_d_scheme.rename(columns={'VOUCHER_CODE': 'voucher_code'})\n",
    "d_scheme_data_types = {\n",
    "    'discount_type': sqlalchemy.types.VARCHAR(length=255),\n",
    "    'discount_amount': sqlalchemy.types.DECIMAL(10,2),\n",
    "    'discount_percent': sqlalchemy.types.DECIMAL(10,2),\n",
    "    'description': sqlalchemy.types.VARCHAR(length=255),\n",
    "    'voucher_code': sqlalchemy.types.VARCHAR(length=255)\n",
    "}\n",
    "#Load to database\n",
    "df_d_scheme_clean.to_sql(name='d_scheme', con=engine, if_exists='append', index=False, dtype=d_scheme_data_types, schema = 'voucher')\n",
    "print(\"Load data to table d_scheme done!\")"
   ]
  },
  {
   "cell_type": "markdown",
   "id": "a6440149-321a-4444-87d4-a061c24553c7",
   "metadata": {},
   "source": [
    "- Bảng d_voucher"
   ]
  },
  {
   "cell_type": "code",
   "execution_count": 7,
   "id": "4323fa9c-bf5c-441e-8ecd-12d4ac5118ef",
   "metadata": {
    "tags": []
   },
   "outputs": [
    {
     "name": "stdout",
     "output_type": "stream",
     "text": [
      "Load data to table d_voucher done!\n"
     ]
    }
   ],
   "source": [
    "# Bảng d_voucher\n",
    "# Thực hiện phép LEFT JOIN để lấy thêm cột voucher_name từ df_fact\n",
    "df_fact_rename = df_fact.rename(columns={'VOUCHER_CODE': 'voucher_code', 'VOUCHER_NAME': 'voucher_name'})\n",
    "df_voucher_master = df_fact_rename[['voucher_code', 'voucher_name']].drop_duplicates()\n",
    "\n",
    "df_d_voucher_merge = pd.merge(df_d_voucher, df_voucher_master, on='voucher_code', how='left')\n",
    "df_d_voucher_clean = df_d_voucher_merge[['voucher_code','voucher_name','total_stock','display_date_from','display_date_to']]\n",
    "# Change data types\n",
    "df_d_voucher_clean['display_date_from'] = pd.to_datetime(df_d_voucher_clean['display_date_from'])\n",
    "df_d_voucher_clean['display_date_to'] = pd.to_datetime(df_d_voucher_clean['display_date_to'])\n",
    "\n",
    "d_voucher_data_types = {\n",
    "    'voucher_code': sqlalchemy.types.VARCHAR(length=255),\n",
    "    'voucher_name': sqlalchemy.types.NVARCHAR(length=255),\n",
    "    'total_stock': sqlalchemy.types.Integer(),\n",
    "    'display_date_from': sqlalchemy.types.DATETIME(),\n",
    "    'display_date_to': sqlalchemy.types.DATETIME()\n",
    "}\n",
    "#Load to database\n",
    "df_d_voucher_clean.to_sql(name='d_voucher', con=engine, if_exists='append', index=False, dtype=d_voucher_data_types, schema = 'voucher')\n",
    "print(\"Load data to table d_voucher done!\")"
   ]
  },
  {
   "cell_type": "markdown",
   "id": "139939c8-90cf-4661-816e-fc2f46cb0a95",
   "metadata": {},
   "source": [
    "- Bảng d_merchant"
   ]
  },
  {
   "cell_type": "code",
   "execution_count": 8,
   "id": "113e6b91-4dae-44b0-b0a3-0d06dce52e37",
   "metadata": {},
   "outputs": [
    {
     "name": "stdout",
     "output_type": "stream",
     "text": [
      "           MERCHANT_CODE            category sub_category\n",
      "23       0316282840MISHI                Khác          NaN\n",
      "29                 VinID                 NaN          NaN\n",
      "40             Innisfree                 NaN          NaN\n",
      "57                   xXC             Mẹ & bé          NaN\n",
      "66                   xXC  Thương mại điện tử          NaN\n",
      "73  DOSALESFORCE24088ABs             Mẹ & bé          NaN\n",
      "94  DOSALESFORCE24036I0u             Mẹ & bé          NaN\n",
      "['xXC' 'DOSALESFORCE23221RiK' '0316282840MISHI' 'DOSALESFORCE22152Jzp'\n",
      " 'VUAHANGHIEU' 'DOSALESFORCE23359nRU']\n",
      "Load data to table d_merchant done!\n"
     ]
    }
   ],
   "source": [
    "# Bảng d_merchant\n",
    "df_d_merchant_null_filtered = df_d_merchant[df_d_merchant['MERCHANT_CODE'].isna() | df_d_merchant['category'].isna() | df_d_merchant['sub_category'].isna()]\n",
    "print(df_d_merchant_null_filtered)\n",
    "# Đánh giá các giá trị NaN thay thế bằng 'Khác'\n",
    "df_d_merchant_filled = df_d_merchant.fillna('Khác')\n",
    "df_d_merchant_clean = df_d_merchant_filled.rename(columns={'MERCHANT_CODE': 'merchant_code'})\n",
    "# Tìm các giá trị bị trùng lặp trong cột 'merchant_code'\n",
    "duplicate_merchant_codes = df_d_merchant_clean[df_d_merchant_clean.duplicated('merchant_code', keep=False)]\n",
    "\n",
    "# Hiển thị các giá trị trùng lặp\n",
    "print(duplicate_merchant_codes['merchant_code'].unique())\n",
    "\n",
    "# Để thuận tiện trong việc tính toán các metric liên quan đến category, sub_category, cần xử lý các dòng có chứa các giá trị trùng lặp này\n",
    "# --> Sau khi đánh giá về ý nghĩa và tần suất xuất hiện category, sub_category của các merchant_code trong bảng fact, em chọn phương pháp chọn giá trị đại diện category\n",
    "# và sub_category cho các merchant_code\n",
    "# Ví dụ đối với Merchant_code ='xXC'\n",
    "# Tỷ lệ số giao dịch category = Tiện ích - Nhà mạng và sub_category= Viễn thông trên tổng số giao dịch tại bảng fact là 92.4% (65804/71201)\n",
    "# --> Chọn category = Tiện ích - Nhà mạng và sub_category= Viễn thông làm đại diện cho merchant = 'xXC'\n",
    "# Làm tương tự với 5 merchant_code còn lại ta thu được kết quả như sau:\n",
    "# Xóa tất cả các dòng mà cột merchant_code bị duplicate\n",
    "df_d_merchant_clean = df_d_merchant_clean[~df_d_merchant_clean['merchant_code'].duplicated(keep=False)]\n",
    "# Tạo DataFrame với 6 dòng mới\n",
    "new_rows = pd.DataFrame({\n",
    "    'merchant_code': ['xXC', 'DOSALESFORCE23221RiK', '0316282840MISHI', 'DOSALESFORCE22152Jzp', 'VUAHANGHIEU', 'DOSALESFORCE23359nRU'],\n",
    "    'category': ['Tiện ích - Nhà mạng', 'Sức khỏe - Làm đẹp', 'Nhà cửa - Đời sống', 'Vận tải - Giao vận', 'Thời trang và Phong cách sống', 'Sức khỏe - Làm đẹp'],\n",
    "    'sub_category': ['Viễn thông', 'Mỹ phẩm - Chăm sóc da, tóc', 'Gia dụng', 'Dịch vụ giao hàng', 'Thời trang', 'Thực phẩm chức năng - CSSK']\n",
    "})\n",
    "\n",
    "# Thêm các dòng mới vào Dataframe\n",
    "df_d_merchant_clean = pd.concat([df_d_merchant_clean, new_rows], ignore_index=True)\n",
    "\n",
    "\n",
    "d_merchant_data_types = {\n",
    "    'merchant_code': sqlalchemy.types.VARCHAR(length=255),\n",
    "    'category': sqlalchemy.types.NVARCHAR(length=255),\n",
    "    'sub_category': sqlalchemy.types.NVARCHAR(length=255)\n",
    "}\n",
    "#Load to database\n",
    "df_d_merchant_clean.to_sql(name='d_merchant', con=engine, if_exists='append', index=False, dtype=d_merchant_data_types, schema = 'voucher')\n",
    "print(\"Load data to table d_merchant done!\")\n"
   ]
  },
  {
   "cell_type": "markdown",
   "id": "5d913eaf-f65e-4aaa-a2a5-6fe4717ef15f",
   "metadata": {},
   "source": [
    "- Bảng d_user"
   ]
  },
  {
   "cell_type": "code",
   "execution_count": 9,
   "id": "9f6fc5e0-5389-465e-a04d-2f522faab124",
   "metadata": {
    "tags": []
   },
   "outputs": [
    {
     "name": "stdout",
     "output_type": "stream",
     "text": [
      "Danh sách các giá trị gender: ['F' nan 'M' 'unavailable']\n",
      "Số dòng có gender null: 6248\n",
      "Danh sách các giá trị gender sau chỉnh sửa: ['F' 'UNIDENTIFIED' 'M']\n"
     ]
    }
   ],
   "source": [
    "# Bảng d_user\n",
    "# Làm sạch cột Gender\n",
    "gender_values = df_d_user['gender'].unique()\n",
    "print(\"Danh sách các giá trị gender:\", gender_values)\n",
    "\n",
    "rows_with_null_gender = len(df_d_user[df_d_user['gender'].isna()])\n",
    "print(\"Số dòng có gender null:\", rows_with_null_gender)\n",
    "\n",
    "#Thay thế các giá trị null, nan, unavailable bằng giá trị UNIDENTIFIED\n",
    "df_d_user['gender'] = df_d_user['gender'].replace([None, pd.NA, 'unavailable'], 'UNIDENTIFIED')\n",
    "\n",
    "gender_values = df_d_user['gender'].unique()\n",
    "print(\"Danh sách các giá trị gender sau chỉnh sửa:\", gender_values)\n"
   ]
  },
  {
   "cell_type": "code",
   "execution_count": 10,
   "id": "52f7df54-7e2a-4d8a-89fa-38c84f5be835",
   "metadata": {
    "tags": []
   },
   "outputs": [
    {
     "name": "stdout",
     "output_type": "stream",
     "text": [
      "Danh sách các giá trị province_name: ['Hà Nội' 'Miền Trung' 'Hồ Chí Minh' 'Miền Bắc' 'HÀ NỘI' 'UNIDENTIFIED'\n",
      " 'HCM' 'ĐN' 'Miền Nam' 'Hànoi' 'Đà Nẵng']\n",
      "Danh sách các giá trị province_name sau khi chỉnh sửa: ['Hà Nội' 'Đà Nẵng' 'Hồ Chí Minh' 'UNIDENTIFIED']\n"
     ]
    },
    {
     "data": {
      "text/html": [
       "<div>\n",
       "<style scoped>\n",
       "    .dataframe tbody tr th:only-of-type {\n",
       "        vertical-align: middle;\n",
       "    }\n",
       "\n",
       "    .dataframe tbody tr th {\n",
       "        vertical-align: top;\n",
       "    }\n",
       "\n",
       "    .dataframe thead th {\n",
       "        text-align: right;\n",
       "    }\n",
       "</style>\n",
       "<table border=\"1\" class=\"dataframe\">\n",
       "  <thead>\n",
       "    <tr style=\"text-align: right;\">\n",
       "      <th></th>\n",
       "      <th>gender</th>\n",
       "      <th>user_id</th>\n",
       "      <th>province_name</th>\n",
       "      <th>age</th>\n",
       "    </tr>\n",
       "  </thead>\n",
       "  <tbody>\n",
       "    <tr>\n",
       "      <th>0</th>\n",
       "      <td>F</td>\n",
       "      <td>76843</td>\n",
       "      <td>Hà Nội</td>\n",
       "      <td>O55</td>\n",
       "    </tr>\n",
       "    <tr>\n",
       "      <th>1</th>\n",
       "      <td>UNIDENTIFIED</td>\n",
       "      <td>13346d5</td>\n",
       "      <td>Đà Nẵng</td>\n",
       "      <td>25_34</td>\n",
       "    </tr>\n",
       "    <tr>\n",
       "      <th>2</th>\n",
       "      <td>UNIDENTIFIED</td>\n",
       "      <td>132ed57</td>\n",
       "      <td>Hồ Chí Minh</td>\n",
       "      <td>UNIDENTIFIED</td>\n",
       "    </tr>\n",
       "    <tr>\n",
       "      <th>3</th>\n",
       "      <td>F</td>\n",
       "      <td>ac6216</td>\n",
       "      <td>Hà Nội</td>\n",
       "      <td>U18</td>\n",
       "    </tr>\n",
       "    <tr>\n",
       "      <th>4</th>\n",
       "      <td>M</td>\n",
       "      <td>cb2f6f</td>\n",
       "      <td>Hà Nội</td>\n",
       "      <td>O55</td>\n",
       "    </tr>\n",
       "    <tr>\n",
       "      <th>...</th>\n",
       "      <td>...</td>\n",
       "      <td>...</td>\n",
       "      <td>...</td>\n",
       "      <td>...</td>\n",
       "    </tr>\n",
       "    <tr>\n",
       "      <th>66712</th>\n",
       "      <td>F</td>\n",
       "      <td>c91280</td>\n",
       "      <td>Hồ Chí Minh</td>\n",
       "      <td>35_44</td>\n",
       "    </tr>\n",
       "    <tr>\n",
       "      <th>66713</th>\n",
       "      <td>F</td>\n",
       "      <td>12fa13</td>\n",
       "      <td>Đà Nẵng</td>\n",
       "      <td>18_24</td>\n",
       "    </tr>\n",
       "    <tr>\n",
       "      <th>66714</th>\n",
       "      <td>F</td>\n",
       "      <td>1022ae</td>\n",
       "      <td>Hồ Chí Minh</td>\n",
       "      <td>39</td>\n",
       "    </tr>\n",
       "    <tr>\n",
       "      <th>66715</th>\n",
       "      <td>M</td>\n",
       "      <td>119452</td>\n",
       "      <td>Hồ Chí Minh</td>\n",
       "      <td>35_44</td>\n",
       "    </tr>\n",
       "    <tr>\n",
       "      <th>66716</th>\n",
       "      <td>F</td>\n",
       "      <td>1d9d10</td>\n",
       "      <td>Đà Nẵng</td>\n",
       "      <td>O55</td>\n",
       "    </tr>\n",
       "  </tbody>\n",
       "</table>\n",
       "<p>66717 rows × 4 columns</p>\n",
       "</div>"
      ],
      "text/plain": [
       "             gender  user_id province_name           age\n",
       "0                 F    76843        Hà Nội           O55\n",
       "1      UNIDENTIFIED  13346d5       Đà Nẵng         25_34\n",
       "2      UNIDENTIFIED  132ed57   Hồ Chí Minh  UNIDENTIFIED\n",
       "3                 F   ac6216        Hà Nội           U18\n",
       "4                 M   cb2f6f        Hà Nội           O55\n",
       "...             ...      ...           ...           ...\n",
       "66712             F   c91280   Hồ Chí Minh         35_44\n",
       "66713             F   12fa13       Đà Nẵng         18_24\n",
       "66714             F   1022ae   Hồ Chí Minh            39\n",
       "66715             M   119452   Hồ Chí Minh         35_44\n",
       "66716             F   1d9d10       Đà Nẵng           O55\n",
       "\n",
       "[66717 rows x 4 columns]"
      ]
     },
     "execution_count": 10,
     "metadata": {},
     "output_type": "execute_result"
    }
   ],
   "source": [
    "# Làm sạch cột province_name\n",
    "province_values = df_d_user['province_name'].unique()\n",
    "print(\"Danh sách các giá trị province_name:\", province_values)\n",
    "\n",
    "# Làm sạch các giá trị cho chuẩn chung định dạng, các giá trị về Miền Bắc, Miền Trung, Miền Nam lấy các tỉnh lần lượt làm đại diện Hà Nội, Đà Nẵng, Hồ Chí Minh \n",
    "df_d_user['province_name'] = df_d_user['province_name'].replace(['HÀ NỘI', 'Hànoi', 'Miền Bắc'], 'Hà Nội')\n",
    "df_d_user['province_name'] = df_d_user['province_name'].replace(['HCM','Miền Nam'], 'Hồ Chí Minh')\n",
    "df_d_user['province_name'] = df_d_user['province_name'].replace(['ĐN','Miền Trung'], 'Đà Nẵng')\n",
    "\n",
    "province_values = df_d_user['province_name'].unique()\n",
    "print(\"Danh sách các giá trị province_name sau khi chỉnh sửa:\", province_values)\n",
    "df_d_user"
   ]
  },
  {
   "cell_type": "code",
   "execution_count": 11,
   "id": "ee209418-aa17-4714-834b-c87e80b21597",
   "metadata": {
    "tags": []
   },
   "outputs": [
    {
     "name": "stdout",
     "output_type": "stream",
     "text": [
      "Danh sách các giá trị age: ['O55' '25_34' 'UNIDENTIFIED' 'U18' '18_24' '35_44' '45_54' '28' 43 46 40\n",
      " 35 44 38 47 45 37 41 36 39 42 'Hai Tư']\n"
     ]
    },
    {
     "data": {
      "text/html": [
       "<div>\n",
       "<style scoped>\n",
       "    .dataframe tbody tr th:only-of-type {\n",
       "        vertical-align: middle;\n",
       "    }\n",
       "\n",
       "    .dataframe tbody tr th {\n",
       "        vertical-align: top;\n",
       "    }\n",
       "\n",
       "    .dataframe thead th {\n",
       "        text-align: right;\n",
       "    }\n",
       "</style>\n",
       "<table border=\"1\" class=\"dataframe\">\n",
       "  <thead>\n",
       "    <tr style=\"text-align: right;\">\n",
       "      <th></th>\n",
       "      <th>gender</th>\n",
       "      <th>user_id</th>\n",
       "      <th>province_name</th>\n",
       "      <th>age_group</th>\n",
       "    </tr>\n",
       "  </thead>\n",
       "  <tbody>\n",
       "    <tr>\n",
       "      <th>0</th>\n",
       "      <td>F</td>\n",
       "      <td>76843</td>\n",
       "      <td>Hà Nội</td>\n",
       "      <td>O55</td>\n",
       "    </tr>\n",
       "    <tr>\n",
       "      <th>1</th>\n",
       "      <td>UNIDENTIFIED</td>\n",
       "      <td>13346d5</td>\n",
       "      <td>Đà Nẵng</td>\n",
       "      <td>25_34</td>\n",
       "    </tr>\n",
       "    <tr>\n",
       "      <th>2</th>\n",
       "      <td>UNIDENTIFIED</td>\n",
       "      <td>132ed57</td>\n",
       "      <td>Hồ Chí Minh</td>\n",
       "      <td>UNIDENTIFIED</td>\n",
       "    </tr>\n",
       "    <tr>\n",
       "      <th>3</th>\n",
       "      <td>F</td>\n",
       "      <td>ac6216</td>\n",
       "      <td>Hà Nội</td>\n",
       "      <td>U18</td>\n",
       "    </tr>\n",
       "    <tr>\n",
       "      <th>4</th>\n",
       "      <td>M</td>\n",
       "      <td>cb2f6f</td>\n",
       "      <td>Hà Nội</td>\n",
       "      <td>O55</td>\n",
       "    </tr>\n",
       "    <tr>\n",
       "      <th>...</th>\n",
       "      <td>...</td>\n",
       "      <td>...</td>\n",
       "      <td>...</td>\n",
       "      <td>...</td>\n",
       "    </tr>\n",
       "    <tr>\n",
       "      <th>66712</th>\n",
       "      <td>F</td>\n",
       "      <td>c91280</td>\n",
       "      <td>Hồ Chí Minh</td>\n",
       "      <td>35_44</td>\n",
       "    </tr>\n",
       "    <tr>\n",
       "      <th>66713</th>\n",
       "      <td>F</td>\n",
       "      <td>12fa13</td>\n",
       "      <td>Đà Nẵng</td>\n",
       "      <td>18_24</td>\n",
       "    </tr>\n",
       "    <tr>\n",
       "      <th>66714</th>\n",
       "      <td>F</td>\n",
       "      <td>1022ae</td>\n",
       "      <td>Hồ Chí Minh</td>\n",
       "      <td>35_44</td>\n",
       "    </tr>\n",
       "    <tr>\n",
       "      <th>66715</th>\n",
       "      <td>M</td>\n",
       "      <td>119452</td>\n",
       "      <td>Hồ Chí Minh</td>\n",
       "      <td>35_44</td>\n",
       "    </tr>\n",
       "    <tr>\n",
       "      <th>66716</th>\n",
       "      <td>F</td>\n",
       "      <td>1d9d10</td>\n",
       "      <td>Đà Nẵng</td>\n",
       "      <td>O55</td>\n",
       "    </tr>\n",
       "  </tbody>\n",
       "</table>\n",
       "<p>66717 rows × 4 columns</p>\n",
       "</div>"
      ],
      "text/plain": [
       "             gender  user_id province_name     age_group\n",
       "0                 F    76843        Hà Nội           O55\n",
       "1      UNIDENTIFIED  13346d5       Đà Nẵng         25_34\n",
       "2      UNIDENTIFIED  132ed57   Hồ Chí Minh  UNIDENTIFIED\n",
       "3                 F   ac6216        Hà Nội           U18\n",
       "4                 M   cb2f6f        Hà Nội           O55\n",
       "...             ...      ...           ...           ...\n",
       "66712             F   c91280   Hồ Chí Minh         35_44\n",
       "66713             F   12fa13       Đà Nẵng         18_24\n",
       "66714             F   1022ae   Hồ Chí Minh         35_44\n",
       "66715             M   119452   Hồ Chí Minh         35_44\n",
       "66716             F   1d9d10       Đà Nẵng           O55\n",
       "\n",
       "[66717 rows x 4 columns]"
      ]
     },
     "execution_count": 11,
     "metadata": {},
     "output_type": "execute_result"
    }
   ],
   "source": [
    "# Làm sạch cột age\n",
    "age_values = df_d_user['age'].unique()\n",
    "print(\"Danh sách các giá trị age:\", age_values)\n",
    "# Hàm phân loại theo nhóm tuổi\n",
    "def classify_age_group(value):\n",
    "    if isinstance(value, int):  # Kiểm tra nếu giá trị là số\n",
    "        if 18 <= value <= 24:\n",
    "            return '18_24'\n",
    "        elif 25 <= value <= 34:\n",
    "            return '25_34'\n",
    "        elif 35 <= value <= 44:\n",
    "            return '35_44'\n",
    "        elif 45 <= value <= 54:\n",
    "            return '45_54'\n",
    "        elif value >= 55:\n",
    "            return 'O55'\n",
    "    elif isinstance(value, str):  # Handle string values\n",
    "        if value == 'Hai Tư':  # Convert 'Hai Tư' to 24\n",
    "            return '18_24'\n",
    "        elif value == '28':  # Handle the string '28' as a number\n",
    "            return '25_34'\n",
    "    return value\n",
    "\n",
    "# Tạo cột nhóm tuổi\n",
    "df_d_user_add_column = df_d_user\n",
    "df_d_user_add_column['age_group'] = df_d_user_add_column['age'].apply(classify_age_group)\n",
    "df_d_user_clean = df_d_user_add_column[['gender','user_id','province_name','age_group']]\n",
    "df_d_user_clean\n"
   ]
  },
  {
   "cell_type": "code",
   "execution_count": 12,
   "id": "0eedeb0f-8109-497a-b869-217840188b91",
   "metadata": {},
   "outputs": [
    {
     "name": "stdout",
     "output_type": "stream",
     "text": [
      "Load data to table d_user done!\n"
     ]
    }
   ],
   "source": [
    "# Config data types\n",
    "d_user_data_types = {\n",
    "    'gender': sqlalchemy.types.VARCHAR(length=255),\n",
    "    'user_id': sqlalchemy.types.VARCHAR(length=25),\n",
    "    'province_name': sqlalchemy.types.NVARCHAR(length=255),\n",
    "    'age_group': sqlalchemy.types.VARCHAR(length=25)\n",
    "}\n",
    "# Load to database\n",
    "df_d_user_clean.to_sql(name='d_user', con=engine, if_exists='append', index=False, dtype=d_user_data_types, schema = 'voucher')\n",
    "print(\"Load data to table d_user done!\")"
   ]
  }
 ],
 "metadata": {
  "kernelspec": {
   "display_name": "Python 3 (ipykernel)",
   "language": "python",
   "name": "python3"
  },
  "language_info": {
   "codemirror_mode": {
    "name": "ipython",
    "version": 3
   },
   "file_extension": ".py",
   "mimetype": "text/x-python",
   "name": "python",
   "nbconvert_exporter": "python",
   "pygments_lexer": "ipython3",
   "version": "3.11.5"
  }
 },
 "nbformat": 4,
 "nbformat_minor": 5
}
